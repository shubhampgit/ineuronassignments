{
 "cells": [
  {
   "cell_type": "code",
   "execution_count": null,
   "id": "6661a3c2",
   "metadata": {},
   "outputs": [],
   "source": [
    "Que 1. How do you distinguish between shutil.copy() and shutil.copytree()?\n",
    "Ans: \n",
    "The shutil.copy() function will copy a single file, while shutil.copytree() will copy an entire folder, along with all\n",
    "its contents."
   ]
  },
  {
   "cell_type": "code",
   "execution_count": null,
   "id": "4b2175e3",
   "metadata": {},
   "outputs": [],
   "source": [
    "Que 2. What function is used to rename files?\n",
    "Ans: \n",
    "The shutil.move() function is used for renaming files, as well as moving them"
   ]
  },
  {
   "cell_type": "code",
   "execution_count": null,
   "id": "5dab968f",
   "metadata": {},
   "outputs": [],
   "source": [
    "Que 3. What is the difference between the delete functions in the send2trash and shutil modules?\n",
    "Ans: \n",
    "The send2trash functions will move a file or folder to the recycle bin, while shutil functions will permanently delete\n",
    "files and folders."
   ]
  },
  {
   "cell_type": "code",
   "execution_count": null,
   "id": "a6cc3bfe",
   "metadata": {},
   "outputs": [],
   "source": [
    "Que 4.ZipFile objects have a close() method just like File objects’ close() method. What ZipFile method is equivalent to File objects’ open() method?\n",
    "Ans:\n",
    "The zipfile.ZipFile() function is equivalent to the open() function; the first argument is the filename, and the \n",
    "second argument is the mode to open the ZIP file in (read, write, or append).\n"
   ]
  }
 ],
 "metadata": {
  "kernelspec": {
   "display_name": "Python 3 (ipykernel)",
   "language": "python",
   "name": "python3"
  },
  "language_info": {
   "codemirror_mode": {
    "name": "ipython",
    "version": 3
   },
   "file_extension": ".py",
   "mimetype": "text/x-python",
   "name": "python",
   "nbconvert_exporter": "python",
   "pygments_lexer": "ipython3",
   "version": "3.9.13"
  }
 },
 "nbformat": 4,
 "nbformat_minor": 5
}
