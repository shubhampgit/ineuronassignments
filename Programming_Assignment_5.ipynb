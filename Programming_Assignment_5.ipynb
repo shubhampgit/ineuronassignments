{
 "cells": [
  {
   "cell_type": "code",
   "execution_count": null,
   "id": "50467780",
   "metadata": {},
   "outputs": [],
   "source": [
    "1. Write a Python Program to Find LCM?"
   ]
  },
  {
   "cell_type": "code",
   "execution_count": 8,
   "id": "b71fd9cd",
   "metadata": {},
   "outputs": [
    {
     "name": "stdout",
     "output_type": "stream",
     "text": [
      "8\n",
      "10\n",
      "40\n"
     ]
    }
   ],
   "source": [
    "num1 = int(input())\n",
    "num2 = int(input())\n",
    "if(num1 > num2 ):   \n",
    "    max= num1\n",
    "else:\n",
    "    max= num2\n",
    "while(True):\n",
    "    if(max % num1 == 0 and max % num2 == 0):   \n",
    "        print(max)\n",
    "        break;\n",
    "    max= max+ 1"
   ]
  },
  {
   "cell_type": "code",
   "execution_count": null,
   "id": "6a6042cc",
   "metadata": {},
   "outputs": [],
   "source": [
    "2. Write a Python Program to Find HCF?"
   ]
  },
  {
   "cell_type": "code",
   "execution_count": 1,
   "id": "c98f1b0e",
   "metadata": {},
   "outputs": [
    {
     "name": "stdout",
     "output_type": "stream",
     "text": [
      "Enter the num1: 48\n",
      "Enter the num2: 56\n",
      "8\n"
     ]
    }
   ],
   "source": [
    "num1= int(input(\"Enter the num1: \"))\n",
    "num2 = int(input(\"Enter the num2: \"))\n",
    "if num1 > num2:\n",
    "    smaller_num = num2\n",
    "else:\n",
    "    smaller_num = num1\n",
    "\n",
    "for i in range(1, smaller_num+1):\n",
    "    if((num1 % i == 0) and (num2 % i == 0)):\n",
    "        res = i\n",
    "\n",
    "print(res)"
   ]
  },
  {
   "cell_type": "code",
   "execution_count": null,
   "id": "c7d78ab8",
   "metadata": {},
   "outputs": [],
   "source": [
    "3. Write a Python Program to Convert Decimal to Binary, Octal and Hexadecimal?"
   ]
  },
  {
   "cell_type": "code",
   "execution_count": 7,
   "id": "64ae02f4",
   "metadata": {},
   "outputs": [
    {
     "name": "stdout",
     "output_type": "stream",
     "text": [
      "The decimal value of 30 is:\n",
      "0b11110 in binary.\n",
      "0o36 in octal.\n",
      "0x1e in hexadecimal.\n"
     ]
    }
   ],
   "source": [
    "dec = 30\n",
    "print(\"The decimal value of\", dec, \"is:\")\n",
    "print(bin(dec), \"in binary.\")\n",
    "print(oct(dec), \"in octal.\")\n",
    "print(hex(dec), \"in hexadecimal.\")"
   ]
  },
  {
   "cell_type": "code",
   "execution_count": null,
   "id": "04a06255",
   "metadata": {},
   "outputs": [],
   "source": [
    "4. Write a Python Program To Find ASCII value of a character?"
   ]
  },
  {
   "cell_type": "code",
   "execution_count": 4,
   "id": "cecfad99",
   "metadata": {},
   "outputs": [
    {
     "name": "stdout",
     "output_type": "stream",
     "text": [
      "The ASCII value of 'z' is 122\n"
     ]
    }
   ],
   "source": [
    "c = 'z'\n",
    "print(\"The ASCII value of '\" + c + \"' is\", ord(c))\n"
   ]
  },
  {
   "cell_type": "code",
   "execution_count": null,
   "id": "ce85e64a",
   "metadata": {},
   "outputs": [],
   "source": [
    "5. Write a Python Program to Make a Simple Calculator with 4 basic mathematical operations?"
   ]
  },
  {
   "cell_type": "code",
   "execution_count": 39,
   "id": "ab4e0391",
   "metadata": {},
   "outputs": [
    {
     "name": "stdout",
     "output_type": "stream",
     "text": [
      "Enter the num1: 20\n",
      "Enter the num2: 5\n",
      "Please enter operation: div\n",
      "4.0\n"
     ]
    }
   ],
   "source": [
    "a = int(input(\"Enter the num1: \"))\n",
    "b = int(input(\"Enter the num2: \"))\n",
    "i = input(\"Please enter operation: \")\n",
    "\n",
    "def add(a, b):\n",
    "    return a+b\n",
    "def sub(a, b):\n",
    "    return a-b\n",
    "def mul(a, b):\n",
    "    return a*b\n",
    "def div(a, b):\n",
    "    return a/b\n",
    "\n",
    "if i == \"add\":\n",
    "    print(add(a,b))\n",
    "    \n",
    "elif i == \"sub\":\n",
    "    print(sub(a,b))\n",
    "    \n",
    "elif i == \"mul\":\n",
    "    print(mul(a,b))\n",
    "    \n",
    "elif i == \"div\":\n",
    "    print(div(a,b))\n",
    "    \n",
    "else:\n",
    "    print('Invalid Operation')"
   ]
  },
  {
   "cell_type": "code",
   "execution_count": null,
   "id": "a8464d59",
   "metadata": {},
   "outputs": [],
   "source": []
  }
 ],
 "metadata": {
  "kernelspec": {
   "display_name": "Python 3 (ipykernel)",
   "language": "python",
   "name": "python3"
  },
  "language_info": {
   "codemirror_mode": {
    "name": "ipython",
    "version": 3
   },
   "file_extension": ".py",
   "mimetype": "text/x-python",
   "name": "python",
   "nbconvert_exporter": "python",
   "pygments_lexer": "ipython3",
   "version": "3.9.13"
  }
 },
 "nbformat": 4,
 "nbformat_minor": 5
}
