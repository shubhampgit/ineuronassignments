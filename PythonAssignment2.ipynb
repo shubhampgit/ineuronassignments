{
 "cells": [
  {
   "cell_type": "code",
   "execution_count": null,
   "id": "7c9d5c25",
   "metadata": {},
   "outputs": [],
   "source": [
    "Q1. What is the relationship between classes and modules?\n",
    "Answer:\n",
    "Classes:- Classes in python act as a blueprint based on which objects are created. Objects are the very basis for \n",
    "object-oriented programming. The objects are the real-world entities, and class acts as a template that defines those \n",
    "objects.\n",
    "Modules:- Modules in Python are files with a .py extension using which we can reuse elements inside that file. When we\n",
    "create a python program, the program may contain inside it functions, variables, and even classes."
   ]
  },
  {
   "cell_type": "code",
   "execution_count": null,
   "id": "7981070c",
   "metadata": {},
   "outputs": [],
   "source": [
    "Q2. How do you make instances and classes?\n",
    "Answer:\n",
    "Everything in Python is an object such as integers, lists, dictionaries, functions and so on. Every object has a type\n",
    "and the object types are created using classes.\n",
    "Instance is an object that belongs to a class. For instance, list is a class in Python. When we create a list, we have\n",
    "an instance of the list class."
   ]
  },
  {
   "cell_type": "code",
   "execution_count": null,
   "id": "293f90e5",
   "metadata": {},
   "outputs": [],
   "source": [
    "Q3. Where and how should be class attributes created?\n",
    "Answer:\n",
    "1. A class attribute is shared by all instances of the class. To define a class attribute, you place it outside of the\n",
    "__init__() method.\n",
    "2. Use class_name. ...\n",
    "3. Use class attributes for storing class contants, track data across all instances, and setting default values for \n",
    "all instances of the class."
   ]
  },
  {
   "cell_type": "code",
   "execution_count": null,
   "id": "5d140557",
   "metadata": {},
   "outputs": [],
   "source": [
    "Q4. Where and how are instance attributes created?\n",
    "Answer:\n",
    "Instance attributes are defined in the __init__() function."
   ]
  },
  {
   "cell_type": "code",
   "execution_count": null,
   "id": "232a99a7",
   "metadata": {},
   "outputs": [],
   "source": [
    "Q5. What does the term \"self\" in a Python class mean?\n",
    "Answer:\n",
    "The self parameter is a reference to the current instance of the class, and is used to access variables that belongs\n",
    "to the class."
   ]
  },
  {
   "cell_type": "code",
   "execution_count": null,
   "id": "33a04499",
   "metadata": {},
   "outputs": [],
   "source": [
    "Q6. How does a Python class handle operator overloading?\n",
    "Answer:\n",
    "The operator overloading in Python means provide extended meaning beyond their predefined operational meaning. Such \n",
    "as, we use the \"+\" operator for adding two integers as well as joining two strings or merging two lists. We can \n",
    "achieve this as the \"+\" operator is overloaded by the \"int\" class and \"str\" class."
   ]
  },
  {
   "cell_type": "code",
   "execution_count": null,
   "id": "940ad623",
   "metadata": {},
   "outputs": [],
   "source": [
    "Q7. When do you consider allowing operator overloading of your classes?\n",
    "Answer:\n",
    "When we use an operator on user-defined data types then automatically a special function or magic function associated\n",
    "with that operator is invoked. Changing the behavior of operator is as simple as changing the behavior of a method or\n",
    "function. You define methods in your class and operators work according to that behavior defined in methods."
   ]
  },
  {
   "cell_type": "code",
   "execution_count": null,
   "id": "36a80a06",
   "metadata": {},
   "outputs": [],
   "source": [
    "Q8. What is the most popular form of operator overloading?\n",
    "Answer:\n",
    "A very popular and convenient example is the Addition (+) operator. Just think how the '+' operator operates on two\n",
    "numbers and the same operator operates on two strings. It performs “Addition” on numbers whereas it performs\n",
    "“Concatenation” on strings."
   ]
  },
  {
   "cell_type": "code",
   "execution_count": null,
   "id": "b32cc5d6",
   "metadata": {},
   "outputs": [],
   "source": [
    "Q9. What are the two most important concepts to grasp in order to comprehend Python OOP code?\n",
    "Answer:\n",
    "The two key concepts of OOP which are inheritance and polymorphism. Both inheritance and polymorphism\n",
    "are key ingredients for designing robust, flexible, and easy-to-maintain software."
   ]
  }
 ],
 "metadata": {
  "kernelspec": {
   "display_name": "Python 3 (ipykernel)",
   "language": "python",
   "name": "python3"
  },
  "language_info": {
   "codemirror_mode": {
    "name": "ipython",
    "version": 3
   },
   "file_extension": ".py",
   "mimetype": "text/x-python",
   "name": "python",
   "nbconvert_exporter": "python",
   "pygments_lexer": "ipython3",
   "version": "3.9.13"
  }
 },
 "nbformat": 4,
 "nbformat_minor": 5
}
