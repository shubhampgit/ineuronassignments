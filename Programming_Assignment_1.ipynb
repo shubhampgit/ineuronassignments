{
 "cells": [
  {
   "cell_type": "code",
   "execution_count": 2,
   "id": "5132d320",
   "metadata": {},
   "outputs": [
    {
     "name": "stdout",
     "output_type": "stream",
     "text": [
      "Hello Python\n"
     ]
    }
   ],
   "source": [
    "1. Write a Python program to print \"Hello Python\"?\n",
    "Ans:\n",
    "print(\"Hello Python\")"
   ]
  },
  {
   "cell_type": "code",
   "execution_count": 10,
   "id": "f9e5a784",
   "metadata": {},
   "outputs": [
    {
     "name": "stdout",
     "output_type": "stream",
     "text": [
      "Addition of two number is: 19\n",
      "Division of two number is: 0.7272727272727273\n"
     ]
    }
   ],
   "source": [
    "2. Write a Python program to do arithmetical operations addition and division.?\n",
    "Ans:\n",
    "a = 8\n",
    "b = 11\n",
    "add = a + b\n",
    "div = a / b\n",
    "print(\"Addition of two number is:\", add)\n",
    "print(\"Division of two number is:\", div)"
   ]
  },
  {
   "cell_type": "code",
   "execution_count": 11,
   "id": "f1e47b05",
   "metadata": {},
   "outputs": [
    {
     "name": "stdout",
     "output_type": "stream",
     "text": [
      "Area of Triangle is 6.0\n"
     ]
    }
   ],
   "source": [
    "3. Write a Python program to find the area of a triangle?\n",
    "Ans:\n",
    "base = 2\n",
    "height = 6\n",
    "print(\"Area of Triangle is\", 0.5 * base * height)"
   ]
  },
  {
   "cell_type": "code",
   "execution_count": 12,
   "id": "f730a145",
   "metadata": {},
   "outputs": [
    {
     "name": "stdout",
     "output_type": "stream",
     "text": [
      "value of a is: 11\n",
      "value of b is: 10\n"
     ]
    }
   ],
   "source": [
    "4. Write a Python program to swap two variables?\n",
    "Ans:\n",
    "a = 10\n",
    "b = 11\n",
    "temp = a\n",
    "a = b\n",
    "b = temp\n",
    "print(\"value of a is:\", a)\n",
    "print(\"value of b is:\", b)"
   ]
  },
  {
   "cell_type": "code",
   "execution_count": 13,
   "id": "f2c07914",
   "metadata": {},
   "outputs": [
    {
     "name": "stdout",
     "output_type": "stream",
     "text": [
      "0.14004421455808336\n"
     ]
    }
   ],
   "source": [
    "5. Write a Python program to generate a random number?\n",
    "Ans:\n",
    "import random as rn\n",
    "num = rn.random()\n",
    "print(num)"
   ]
  }
 ],
 "metadata": {
  "kernelspec": {
   "display_name": "Python 3 (ipykernel)",
   "language": "python",
   "name": "python3"
  },
  "language_info": {
   "codemirror_mode": {
    "name": "ipython",
    "version": 3
   },
   "file_extension": ".py",
   "mimetype": "text/x-python",
   "name": "python",
   "nbconvert_exporter": "python",
   "pygments_lexer": "ipython3",
   "version": "3.9.12"
  }
 },
 "nbformat": 4,
 "nbformat_minor": 5
}
