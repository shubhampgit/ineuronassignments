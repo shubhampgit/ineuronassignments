{
 "cells": [
  {
   "cell_type": "code",
   "execution_count": null,
   "id": "53aa6a48",
   "metadata": {},
   "outputs": [],
   "source": [
    "1.What are the two values of the Boolean data type? How do you write them?\n",
    "Answer:-\n",
    "Python boolean type is one of the built-in data types provided by Python, which represents one of the two values\n",
    "i.e. True or False.\n",
    "Eg:-\n",
    "a = 10\n",
    "b = 20\n",
    "if a > b:\n",
    "i.e. 10 > 20 = False\n",
    "if b > a:\n",
    "i.e. 20 > 10 = True"
   ]
  },
  {
   "cell_type": "code",
   "execution_count": null,
   "id": "544244dd",
   "metadata": {},
   "outputs": [],
   "source": [
    "2. What are the three different types of Boolean operators?\n",
    "Answer:-\n",
    "AND, OR, NOT are three different types of Boolean operators\n",
    "1. AND checks all conditions need to be true. \n",
    "2. OR checks any of mentioned condition needs to be true. \n",
    "3. NOT eliminates items that contain the specified term."
   ]
  },
  {
   "cell_type": "code",
   "execution_count": null,
   "id": "44a35d4d",
   "metadata": {},
   "outputs": [],
   "source": [
    "3. Make a list of each Boolean operator's truth tables (i.e. every possible combination of Boolean\n",
    "values for the operator and what it evaluate ).\n",
    "Answer:-\n",
    "Condition1(eg:- x)         Condition2(eg:- y)         not x            x and y             x or y\n",
    "false                      false                      true             false               false\n",
    "false                      true                       true             false               true\n",
    "true                       false                      false            false               true\n",
    "true                       true                       false            true                true"
   ]
  },
  {
   "cell_type": "code",
   "execution_count": null,
   "id": "076d7c46",
   "metadata": {},
   "outputs": [],
   "source": [
    "4. What are the values of the following expressions?\n",
    "Answer:-\n",
    "(5 > 4) and (3 == 5)  => False\n",
    "not (5 > 4) => False\n",
    "(5 > 4) or (3 == 5) => True\n",
    "not ((5 > 4) or (3 == 5)) => False\n",
    "(True and True) and (True == False) => False\n",
    "(not False) or (not True) => True"
   ]
  },
  {
   "cell_type": "code",
   "execution_count": null,
   "id": "a6e0739d",
   "metadata": {},
   "outputs": [],
   "source": [
    "5. What are the six comparison operators?\n",
    "Answer:-\n",
    "1. Less than ( < )\n",
    "2. Less than or equal to ( <= )\n",
    "3. Greater than ( > )\n",
    "4. Greater than or equal to ( >= )\n",
    "5. Equal to ( == )\n",
    "6. Not equal to ( != )"
   ]
  },
  {
   "cell_type": "code",
   "execution_count": null,
   "id": "742d623a",
   "metadata": {},
   "outputs": [],
   "source": [
    "6. How do you tell the difference between the equal to and assignment operators?Describe a\n",
    "condition and when you would use one.\n",
    "Answer:- \n",
    "The '=' is an assignment operator is used to assign the value on the right to the variable on the left. \n",
    "The '==' is an equal to operator checks whether the two given operands are equal or not. If so, it returns true. \n",
    "Otherwise it returns false\n",
    "\n",
    "Eg. of Assignment Operator => x = 8                  # here 8 is assigned to the x (left side operand)  \n",
    "Eg. of Equal to operator => \n",
    "a = 2\n",
    "b = 4\n",
    "print(a == b) \n",
    "Ans:- False"
   ]
  },
  {
   "cell_type": "code",
   "execution_count": null,
   "id": "416e410d",
   "metadata": {},
   "outputs": [],
   "source": [
    "7. Identify the three blocks in this code:\n",
    "spam = 0\n",
    "if spam == 10:\n",
    "print('eggs')\n",
    "if spam > 5:\n",
    "print('bacon')\n",
    "else:\n",
    "print('ham')\n",
    "print('spam')\n",
    "print('spam')\n",
    "Answer:-\n",
    "ham\n",
    "spam\n",
    "spam"
   ]
  },
  {
   "cell_type": "code",
   "execution_count": null,
   "id": "db1cd70c",
   "metadata": {},
   "outputs": [],
   "source": [
    "8. Write code that prints Hello if 1 is stored in spam, prints Howdy if 2 is stored in spam, and prints\n",
    "Greetings! if anything else is stored in spam.\n",
    "Answer:-\n",
    "a = [1, 2, 3, 4]\n",
    "for spam in a:\n",
    "    if spam == 1:\n",
    "        print(\"Hello\")\n",
    "    elif spam == 2:\n",
    "        print(\"Howdy\")\n",
    "    else:\n",
    "        print(\"Greetings\")\n",
    "Output:-\n",
    "Hello\n",
    "Howdy\n",
    "Greetings\n",
    "Greetings"
   ]
  },
  {
   "cell_type": "code",
   "execution_count": null,
   "id": "e35bba91",
   "metadata": {},
   "outputs": [],
   "source": [
    "9.If your programme is stuck in an endless loop, what keys you’ll press?\n",
    "Answer:-\n",
    "ctrl+c"
   ]
  },
  {
   "cell_type": "code",
   "execution_count": null,
   "id": "c0b70164",
   "metadata": {},
   "outputs": [],
   "source": [
    "10. How can you tell the difference between break and continue?\n",
    "Answer:-\n",
    "Break:- Break is used for immediate termination of loop.\n",
    "Continue:- On the other hand, continue terminate the current iteration and resumes the control to the next iteration\n",
    "of the loop."
   ]
  },
  {
   "cell_type": "code",
   "execution_count": null,
   "id": "7eaef50c",
   "metadata": {},
   "outputs": [],
   "source": [
    "11. In a for loop, what is the difference between range(10), range(0, 10), and range(0, 10, 1)?\n",
    "Answer:-\n",
    "1. range(10):- It will print number till 10 range.\n",
    "eg:- \n",
    "for i in range(10):\n",
    "    print(i)\n",
    "Output:- \n",
    "0\n",
    "1\n",
    "2\n",
    "3\n",
    "4\n",
    "5\n",
    "6\n",
    "7\n",
    "8\n",
    "9\n",
    "\n",
    "2. range(0, 10) :- It will print number from 0 to 9.\n",
    "eg:-\n",
    "for i in range(0, 10):\n",
    "    print(i)\n",
    "Output:-\n",
    "0\n",
    "1\n",
    "2\n",
    "3\n",
    "4\n",
    "5\n",
    "6\n",
    "7\n",
    "8\n",
    "9\n",
    "\n",
    "3. range(0, 10, 1) :- It is will print number start from 0 to 9 where 1 is jumping number.\n",
    "for i in range(0, 10, 1):\n",
    "    print(i)\n",
    "Output:-\n",
    "0\n",
    "1\n",
    "2\n",
    "3\n",
    "4\n",
    "5\n",
    "6\n",
    "7\n",
    "8\n",
    "9"
   ]
  },
  {
   "cell_type": "code",
   "execution_count": null,
   "id": "3a655e36",
   "metadata": {},
   "outputs": [],
   "source": [
    "12. Write a short program that prints the numbers 1 to 10 using a for loop. Then write an equivalent\n",
    "program that prints the numbers 1 to 10 using a while loop.\n",
    "Answer:-\n",
    "for i in range(1, 11):\n",
    "    print(i)\n",
    "Output:-\n",
    "1\n",
    "2\n",
    "3\n",
    "4\n",
    "5\n",
    "6\n",
    "7\n",
    "8\n",
    "9\n",
    "10\n",
    "\n",
    "i = 1\n",
    "while i <= 10:\n",
    "    print(i)\n",
    "i = i + 1\n",
    "\n",
    "Output:- \n",
    "1\n",
    "2\n",
    "3\n",
    "4\n",
    "5\n",
    "6\n",
    "7\n",
    "8\n",
    "9\n",
    "10\n"
   ]
  },
  {
   "cell_type": "code",
   "execution_count": null,
   "id": "7f87ade4",
   "metadata": {},
   "outputs": [],
   "source": [
    "13. If you had a function named bacon() inside a module named spam, how would you call it after\n",
    "importing spam?\n",
    "Answer:-\n",
    "This function can be called with spam.bacon()"
   ]
  }
 ],
 "metadata": {
  "kernelspec": {
   "display_name": "Python 3 (ipykernel)",
   "language": "python",
   "name": "python3"
  },
  "language_info": {
   "codemirror_mode": {
    "name": "ipython",
    "version": 3
   },
   "file_extension": ".py",
   "mimetype": "text/x-python",
   "name": "python",
   "nbconvert_exporter": "python",
   "pygments_lexer": "ipython3",
   "version": "3.9.7"
  }
 },
 "nbformat": 4,
 "nbformat_minor": 5
}
