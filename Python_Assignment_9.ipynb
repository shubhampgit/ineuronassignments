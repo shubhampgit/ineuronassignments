{
 "cells": [
  {
   "cell_type": "code",
   "execution_count": null,
   "id": "f41ba257",
   "metadata": {},
   "outputs": [],
   "source": [
    "Que 1. To what does a relative path refer?\n",
    "Ans:\n",
    "Relative paths are relative to the current working directory"
   ]
  },
  {
   "cell_type": "code",
   "execution_count": null,
   "id": "11b26ba3",
   "metadata": {},
   "outputs": [],
   "source": [
    "Que 2. What does an absolute path start with your operating system?\n",
    "Ans:\n",
    "Absolute paths start with the root folder, such as / or C:\\."
   ]
  },
  {
   "cell_type": "code",
   "execution_count": null,
   "id": "477313b6",
   "metadata": {},
   "outputs": [],
   "source": [
    "Que 3. What do the functions os.getcwd() and os.chdir() do?\n",
    "Ans: \n",
    "The os.getcwd() function returns the current working directory. The os.chdir() function changes the current working \n",
    "directory"
   ]
  },
  {
   "cell_type": "code",
   "execution_count": null,
   "id": "e8af3fca",
   "metadata": {},
   "outputs": [],
   "source": [
    "Que 4. What are the . and .. folders?\n",
    "Ans:\n",
    "The . folder is the current folder, and .. is the parent folder"
   ]
  },
  {
   "cell_type": "code",
   "execution_count": null,
   "id": "2e6d0bd3",
   "metadata": {},
   "outputs": [],
   "source": [
    "Que 5. In C:\\bacon\\eggs\\spam.txt, which part is the dir name, and which part is the base name?\n",
    "Ans: \n",
    "C:\\bacon\\eggs is the dir name, while spam.txt is the base name."
   ]
  },
  {
   "cell_type": "code",
   "execution_count": null,
   "id": "8a6e83e9",
   "metadata": {},
   "outputs": [],
   "source": [
    "Que 6. What are the three “mode” arguments that can be passed to the open() function?\n",
    "Ans: \n",
    "The string 'r' for read mode, 'w' for write mode, and 'a' for append mode"
   ]
  },
  {
   "cell_type": "code",
   "execution_count": null,
   "id": "54bed235",
   "metadata": {},
   "outputs": [],
   "source": [
    "Que 7. What happens if an existing file is opened in write mode?\n",
    "Ans: \n",
    "An existing file opened in write mode is erased and completely overwritten"
   ]
  },
  {
   "cell_type": "code",
   "execution_count": null,
   "id": "a0917b1c",
   "metadata": {},
   "outputs": [],
   "source": [
    "Que 8. How do you tell the difference between read() and readlines()?\n",
    "Ans: \n",
    "The read() method returns the file’s entire contents as a single string value. The readlines() method returns a list\n",
    "of strings, where each string is a line from the file’s contents."
   ]
  },
  {
   "cell_type": "code",
   "execution_count": null,
   "id": "69cf47d0",
   "metadata": {},
   "outputs": [],
   "source": [
    "Que 9. What data structure does a shelf value resemble?\n",
    "Ans: \n",
    "A shelf value resembles a dictionary value; it has keys and values, along with keys() and values() methods that work \n",
    "similarly to the dictionary methods of the same names"
   ]
  }
 ],
 "metadata": {
  "kernelspec": {
   "display_name": "Python 3 (ipykernel)",
   "language": "python",
   "name": "python3"
  },
  "language_info": {
   "codemirror_mode": {
    "name": "ipython",
    "version": 3
   },
   "file_extension": ".py",
   "mimetype": "text/x-python",
   "name": "python",
   "nbconvert_exporter": "python",
   "pygments_lexer": "ipython3",
   "version": "3.9.13"
  }
 },
 "nbformat": 4,
 "nbformat_minor": 5
}
