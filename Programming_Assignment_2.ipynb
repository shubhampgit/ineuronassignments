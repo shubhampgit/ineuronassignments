{
 "cells": [
  {
   "cell_type": "code",
   "execution_count": 2,
   "id": "c6550242",
   "metadata": {},
   "outputs": [
    {
     "name": "stdout",
     "output_type": "stream",
     "text": [
      "Enter value in kilometers:11\n",
      "Conversion of Kilometers to Miles is 6.835081\n"
     ]
    }
   ],
   "source": [
    "1. Write a Python program to convert kilometers to miles?\n",
    "Ans:\n",
    "km = float(input(\"Enter value in kilometers:\"))\n",
    "con_fac = 0.621371\n",
    "miles = km * con_fac\n",
    "print(\"Conversion of Kilometers to Miles is\", miles)"
   ]
  },
  {
   "cell_type": "code",
   "execution_count": 3,
   "id": "6fcb2d79",
   "metadata": {},
   "outputs": [
    {
     "name": "stdout",
     "output_type": "stream",
     "text": [
      "Enter value in Celcius:36.4\n",
      "Conversion fo Celcius to Fahrenheit is 97.52\n"
     ]
    }
   ],
   "source": [
    "2. Write a Python program to convert Celsius to Fahrenheit?\n",
    "Ans:\n",
    "cel = float(input(\"Enter value in Celcius:\"))\n",
    "fahrenheit = (cel * 1.8) + 32\n",
    "print(\"Conversion fo Celcius to Fahrenheit is\", fahrenheit)"
   ]
  },
  {
   "cell_type": "code",
   "execution_count": 5,
   "id": "77cfc65b",
   "metadata": {},
   "outputs": [
    {
     "name": "stdout",
     "output_type": "stream",
     "text": [
      "Enter Year: 2023\n",
      "Enter Month: 01\n",
      "    January 2023\n",
      "Mo Tu We Th Fr Sa Su\n",
      "                   1\n",
      " 2  3  4  5  6  7  8\n",
      " 9 10 11 12 13 14 15\n",
      "16 17 18 19 20 21 22\n",
      "23 24 25 26 27 28 29\n",
      "30 31\n",
      "\n"
     ]
    }
   ],
   "source": [
    "3. Write a Python program to display calendar?\n",
    "Ans:\n",
    "import calendar as cl\n",
    "year = int(input(\"Enter Year: \"))\n",
    "month = int(input(\"Enter Month: \"))\n",
    "print(cl.month(year, month))"
   ]
  },
  {
   "cell_type": "code",
   "execution_count": 13,
   "id": "6971b84d",
   "metadata": {},
   "outputs": [
    {
     "name": "stdout",
     "output_type": "stream",
     "text": [
      "The Results are (-3+0j) and (-2+0j)\n"
     ]
    }
   ],
   "source": [
    "4. Write a Python program to solve quadratic equation?\n",
    "Ans:\n",
    "import cmath\n",
    "a = 1\n",
    "b = 5\n",
    "c = 6\n",
    "d = (b**2) - (4*a*c)\n",
    "res1 = (-b-cmath.sqrt(d))/(2*a)\n",
    "res2 = (-b+cmath.sqrt(d))/(2*a)\n",
    "print('The Results are {0} and {1}'.format(res1,res2))"
   ]
  },
  {
   "cell_type": "code",
   "execution_count": 23,
   "id": "c34f617a",
   "metadata": {},
   "outputs": [
    {
     "name": "stdout",
     "output_type": "stream",
     "text": [
      "The value of a is: 89\n",
      "The value of b is: 9\n"
     ]
    }
   ],
   "source": [
    "5. Write a Python program to swap two variables without temp variable?\n",
    "Ans:\n",
    "a = 9\n",
    "b = 89\n",
    "a, b = b, a\n",
    "print(\"The value of a is:\", a)\n",
    "print(\"The value of b is:\", b)\n"
   ]
  }
 ],
 "metadata": {
  "kernelspec": {
   "display_name": "Python 3 (ipykernel)",
   "language": "python",
   "name": "python3"
  },
  "language_info": {
   "codemirror_mode": {
    "name": "ipython",
    "version": 3
   },
   "file_extension": ".py",
   "mimetype": "text/x-python",
   "name": "python",
   "nbconvert_exporter": "python",
   "pygments_lexer": "ipython3",
   "version": "3.9.12"
  }
 },
 "nbformat": 4,
 "nbformat_minor": 5
}
