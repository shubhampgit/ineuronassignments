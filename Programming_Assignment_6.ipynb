{
 "cells": [
  {
   "cell_type": "code",
   "execution_count": null,
   "id": "793e6dfc",
   "metadata": {},
   "outputs": [],
   "source": [
    "1. Write a Python Program to Display Fibonacci Sequence Using Recursion?"
   ]
  },
  {
   "cell_type": "code",
   "execution_count": 4,
   "id": "923c587e",
   "metadata": {},
   "outputs": [
    {
     "name": "stdout",
     "output_type": "stream",
     "text": [
      "Please Enter the Range10\n",
      "Fibonacci series is:\n",
      "0\n",
      "1\n",
      "1\n",
      "2\n",
      "3\n",
      "5\n",
      "8\n",
      "13\n",
      "21\n",
      "34\n"
     ]
    }
   ],
   "source": [
    "def fibo_series(n):\n",
    "   if n <= 1:\n",
    "       return n\n",
    "   else:\n",
    "       return(fibo_series(n-1) + fibo_series(n-2))\n",
    "\n",
    "nt = int(input(\"Please Enter the Range: \"))\n",
    "\n",
    "if nt <= 0:\n",
    "   print(\"Plese enter a positive number\")\n",
    "else:\n",
    "   print(\"Fibonacci series is:\")\n",
    "   for i in range(nt):\n",
    "       print(fibo_series(i))"
   ]
  },
  {
   "cell_type": "code",
   "execution_count": null,
   "id": "97203f69",
   "metadata": {},
   "outputs": [],
   "source": [
    "2. Write a Python Program to Find Factorial of Number Using Recursion?"
   ]
  },
  {
   "cell_type": "code",
   "execution_count": 6,
   "id": "726b66a6",
   "metadata": {},
   "outputs": [
    {
     "name": "stdout",
     "output_type": "stream",
     "text": [
      "Please Enter the Number: 5\n",
      "The factorial of 5 is 120\n"
     ]
    }
   ],
   "source": [
    "def factorial(n):\n",
    "   if n == 1:\n",
    "       return n\n",
    "   else:\n",
    "       return n*factorial(n-1)\n",
    "\n",
    "num = int(input(\"Please Enter the Number: \"))\n",
    "if num < 0:\n",
    "   print(\"facorial for negative number not possible\")\n",
    "elif num == 0:\n",
    "   print(\"The factorial of 0 is 1\")\n",
    "else:\n",
    "   print(\"The factorial of\", num, \"is\", factorial(num))"
   ]
  },
  {
   "cell_type": "code",
   "execution_count": null,
   "id": "cc864da2",
   "metadata": {},
   "outputs": [],
   "source": [
    "3. Write a Python Program to calculate your Body Mass Index?"
   ]
  },
  {
   "cell_type": "code",
   "execution_count": 10,
   "id": "fb9f87c9",
   "metadata": {},
   "outputs": [
    {
     "name": "stdout",
     "output_type": "stream",
     "text": [
      "Input enter height in Feet: 6\n",
      "Input enter weight in Kg: 70\n",
      "Your body mass index is:  1.94\n"
     ]
    }
   ],
   "source": [
    "h = float(input(\"Input enter height in Feet: \"))\n",
    "w = float(input(\"Input enter weight in Kg: \"))\n",
    "print(\"Your body mass index is: \", round(w / (h * h), 2))"
   ]
  },
  {
   "cell_type": "code",
   "execution_count": null,
   "id": "3b08ff88",
   "metadata": {},
   "outputs": [],
   "source": [
    "4. Write a Python Program to calculate the natural logarithm of any number?"
   ]
  },
  {
   "cell_type": "code",
   "execution_count": 11,
   "id": "7cc97372",
   "metadata": {},
   "outputs": [
    {
     "name": "stdout",
     "output_type": "stream",
     "text": [
      "Enter the number: 8\n",
      "The log value is: 2.0794415416798357\n"
     ]
    }
   ],
   "source": [
    "import math\n",
    "num = int(input(\"Enter the number: \"))\n",
    "res = math.log(num)\n",
    "print(\"The log value is:\",res)"
   ]
  },
  {
   "cell_type": "code",
   "execution_count": null,
   "id": "0e4c022e",
   "metadata": {},
   "outputs": [],
   "source": [
    "5. Write a Python Program for cube sum of first n natural numbers?"
   ]
  },
  {
   "cell_type": "code",
   "execution_count": 15,
   "id": "3dd81078",
   "metadata": {},
   "outputs": [
    {
     "name": "stdout",
     "output_type": "stream",
     "text": [
      "Enter the number: 3\n",
      "36\n"
     ]
    }
   ],
   "source": [
    "def naturalNum(n):\n",
    "   sum = 0\n",
    "   for i in range(1, n+1):\n",
    "      sum +=i*i*i\n",
    "   return sum\n",
    "\n",
    "num = int(input(\"Enter the number: \"))\n",
    "print(naturalNum(num))"
   ]
  },
  {
   "cell_type": "code",
   "execution_count": null,
   "id": "b4e6bdfb",
   "metadata": {},
   "outputs": [],
   "source": []
  }
 ],
 "metadata": {
  "kernelspec": {
   "display_name": "Python 3 (ipykernel)",
   "language": "python",
   "name": "python3"
  },
  "language_info": {
   "codemirror_mode": {
    "name": "ipython",
    "version": 3
   },
   "file_extension": ".py",
   "mimetype": "text/x-python",
   "name": "python",
   "nbconvert_exporter": "python",
   "pygments_lexer": "ipython3",
   "version": "3.9.13"
  }
 },
 "nbformat": 4,
 "nbformat_minor": 5
}
