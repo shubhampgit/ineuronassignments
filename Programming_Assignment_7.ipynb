{
 "cells": [
  {
   "cell_type": "code",
   "execution_count": null,
   "id": "ca98cd7c",
   "metadata": {},
   "outputs": [],
   "source": [
    "1. Write a Python Program to find sum of array?\n",
    "2. Write a Python Program to find largest element in an array?\n",
    "3. Write a Python Program for array rotation?\n",
    "4. Write a Python Program to Split the array and add the first part to the end?\n",
    "5. Write a Python Program to check if given array is Monotonic?"
   ]
  },
  {
   "cell_type": "code",
   "execution_count": null,
   "id": "5450b2e5",
   "metadata": {},
   "outputs": [],
   "source": [
    "1. Write a Python Program to find sum of array?"
   ]
  },
  {
   "cell_type": "code",
   "execution_count": 3,
   "id": "6ead6a5d",
   "metadata": {},
   "outputs": [
    {
     "name": "stdout",
     "output_type": "stream",
     "text": [
      "Number of elements in array:3\n",
      "4\n",
      "5\n",
      "6\n",
      "[4, 5, 6]\n",
      "Sum of the array is  15\n"
     ]
    }
   ],
   "source": [
    "a=[]\n",
    "n=int(input(\"Number of elements in array:\"))\n",
    "for i in range(0,n):\n",
    "   l=int(input())\n",
    "   a.append(l)\n",
    "print(a)\n",
    "res = sum(a)\n",
    " \n",
    "print('Sum of the array is ', res)"
   ]
  },
  {
   "cell_type": "code",
   "execution_count": null,
   "id": "241675f4",
   "metadata": {},
   "outputs": [],
   "source": [
    "2. Write a Python Program to find largest element in an array"
   ]
  },
  {
   "cell_type": "code",
   "execution_count": 5,
   "id": "bb36bf83",
   "metadata": {},
   "outputs": [
    {
     "name": "stdout",
     "output_type": "stream",
     "text": [
      "Number of elements in array:4\n",
      "56\n",
      "34\n",
      "59\n",
      "23\n",
      "[56, 34, 59, 23]\n",
      "59\n"
     ]
    }
   ],
   "source": [
    "a=[]\n",
    "max=0\n",
    "n=int(input(\"Number of elements in array:\"))\n",
    "for i in range(0,n):\n",
    "   l=int(input())\n",
    "   a.append(l)\n",
    "print(a)\n",
    "max = a[0]\n",
    "for i in range(1,len(a)):\n",
    "    \n",
    "    if a[i]>max:\n",
    "        max=a[i]\n",
    "        \n",
    "print(max)   "
   ]
  },
  {
   "cell_type": "code",
   "execution_count": null,
   "id": "4b9fb5ea",
   "metadata": {},
   "outputs": [],
   "source": [
    "3. Write a Python Program for array rotation?"
   ]
  },
  {
   "cell_type": "code",
   "execution_count": 7,
   "id": "20e3b1ba",
   "metadata": {},
   "outputs": [
    {
     "name": "stdout",
     "output_type": "stream",
     "text": [
      "Number of elements in array:5\n",
      "1\n",
      "2\n",
      "3\n",
      "4\n",
      "5\n",
      "Array after left rotation is:  [4, 5, 1, 2, 3]\n"
     ]
    }
   ],
   "source": [
    "def rotateArray(a,d):\n",
    "    temp = []\n",
    "    n=len(a)\n",
    "    for i in range(d,n):\n",
    "        temp.append(a[i])\n",
    "    i = 0\n",
    "    for i in range (0,d):\n",
    "        temp.append(a[i])\n",
    "    return temp\n",
    " \n",
    "arr = []\n",
    "n=int(input(\"Number of elements in array:\"))\n",
    "for i in range(0,n):\n",
    "   l=int(input())\n",
    "   arr.append(l)\n",
    "print(\"Array after left rotation is: \", end=' ')\n",
    "print(rotateArray(arr, 3))"
   ]
  },
  {
   "cell_type": "code",
   "execution_count": null,
   "id": "0cba8560",
   "metadata": {},
   "outputs": [],
   "source": [
    "4. Write a Python Program to Split the array and add the first part to the end?"
   ]
  },
  {
   "cell_type": "code",
   "execution_count": 10,
   "id": "1f438c79",
   "metadata": {},
   "outputs": [
    {
     "name": "stdout",
     "output_type": "stream",
     "text": [
      "Number of elements in array:5\n",
      "1\n",
      "2\n",
      "3\n",
      "4\n",
      "5\n",
      "Enter the Position:1\n",
      "2 3 4 5 1 "
     ]
    }
   ],
   "source": [
    "arr = []\n",
    "n=int(input(\"Number of elements in array:\"))\n",
    "for i in range(0,n):\n",
    "   l=int(input())\n",
    "   arr.append(l)\n",
    "position = int(input(\"Enter the Position:\"))\n",
    "x = arr[:position]\n",
    "y = arr[position:]\n",
    "y.extend(x)\n",
    "for i in y:\n",
    "    print(i, end=\" \")"
   ]
  },
  {
   "cell_type": "code",
   "execution_count": null,
   "id": "56f1ff59",
   "metadata": {},
   "outputs": [],
   "source": [
    "5. Write a Python Program to check if given array is Monotonic?"
   ]
  },
  {
   "cell_type": "code",
   "execution_count": 5,
   "id": "94015eac",
   "metadata": {},
   "outputs": [
    {
     "name": "stdout",
     "output_type": "stream",
     "text": [
      "True\n",
      "True\n",
      "True\n",
      "False\n"
     ]
    }
   ],
   "source": [
    "def isMonotonic(arr):\n",
    "    if len(arr) <= 2:\n",
    "        return True\n",
    "    direction = arr[1] - arr[0]\n",
    "    for i in range(2, len(arr)):\n",
    "        if direction == 0:\n",
    "            direction = arr[i] - arr[i - 1]\n",
    "            continue\n",
    "        if (direction > 0 and arr[i] < arr[i - 1]) or (direction < 0 and arr[i] > arr[i - 1]):\n",
    "            return False\n",
    "    return True\n",
    "\n",
    "# Example usage\n",
    "arr1 = [1, 2, 3, 4, 5] # True\n",
    "arr2 = [5, 4, 3, 2, 1] # True\n",
    "arr3 = [1, 2, 2, 3, 4] # True\n",
    "arr4 = [1, 2, 3, 4, 5, 4] # False\n",
    "\n",
    "print(isMonotonic(arr1)) # should return True\n",
    "print(isMonotonic(arr2)) # should return True\n",
    "print(isMonotonic(arr3)) # should return True\n",
    "print(isMonotonic(arr4)) # should return False\n"
   ]
  },
  {
   "cell_type": "code",
   "execution_count": null,
   "id": "f9c1a996",
   "metadata": {},
   "outputs": [],
   "source": []
  }
 ],
 "metadata": {
  "kernelspec": {
   "display_name": "Python 3 (ipykernel)",
   "language": "python",
   "name": "python3"
  },
  "language_info": {
   "codemirror_mode": {
    "name": "ipython",
    "version": 3
   },
   "file_extension": ".py",
   "mimetype": "text/x-python",
   "name": "python",
   "nbconvert_exporter": "python",
   "pygments_lexer": "ipython3",
   "version": "3.9.13"
  }
 },
 "nbformat": 4,
 "nbformat_minor": 5
}
