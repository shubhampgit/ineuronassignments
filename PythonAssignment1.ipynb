{
 "cells": [
  {
   "cell_type": "code",
   "execution_count": null,
   "id": "1fe502df",
   "metadata": {},
   "outputs": [],
   "source": [
    "Q1. What is the purpose of Python's OOP?\n",
    "Answer:-\n",
    "In Python, object-oriented Programming (OOPs) is a programming paradigm that uses objects and classes in programming.\n",
    "The main concept of OOPs is to bind the data and the functions that work on that together as a single unit so that no \n",
    "other part of the code can access this data."
   ]
  },
  {
   "cell_type": "code",
   "execution_count": null,
   "id": "a8bc60d6",
   "metadata": {},
   "outputs": [],
   "source": [
    "Q2. Where does an inheritance search look for an attribute?\n",
    "Answer:- \n",
    "The whole point of a namespace tool like the class statement is to support name inheritance. In Python, inheritance \n",
    "happens when an object is qualified, and involves searching an attribute definition tree. Every time you use an \n",
    "expression of the form object."
   ]
  },
  {
   "cell_type": "code",
   "execution_count": null,
   "id": "b4d5690b",
   "metadata": {},
   "outputs": [],
   "source": [
    "Q3. How do you distinguish between a class object and an instance object?\n",
    "Answer:-\n",
    "In python, everything will inherit from object class & hence everything is an object (i.e object of object class). \n",
    "A Class is also an object (i.e object of object class). Instance is the name used to call the object of any class."
   ]
  },
  {
   "cell_type": "code",
   "execution_count": null,
   "id": "cef246fe",
   "metadata": {},
   "outputs": [],
   "source": [
    "Q4. What makes the first argument in a class’s method function special?\n",
    "Answer:-\n",
    "Python decided to do methods in a way that makes the instance to which the method belongs be passed automatically,\n",
    "but not received automatically: the first parameter of methods is the instance the method is called on. \n",
    "Self is always pointing to Current Object."
   ]
  },
  {
   "cell_type": "code",
   "execution_count": null,
   "id": "39d74c97",
   "metadata": {},
   "outputs": [],
   "source": [
    "Q5. What is the purpose of the __init__ method?\n",
    "Answer:-\n",
    "\"__init__\" is a reseved method in python classes. It is known as a constructor in object oriented concepts. This \n",
    "method called when an object is created from the class and it allow the class to initialize the attributes of a class."
   ]
  },
  {
   "cell_type": "code",
   "execution_count": null,
   "id": "0b2d801b",
   "metadata": {},
   "outputs": [],
   "source": [
    "Q6. What is the process for creating a class instance?\n",
    "Answer:-\n",
    "To create instances of a class, you call the class using class name and pass in whatever arguments its __init__ method\n",
    "accepts."
   ]
  },
  {
   "cell_type": "code",
   "execution_count": null,
   "id": "d6c5056a",
   "metadata": {},
   "outputs": [],
   "source": [
    "Q7. What is the process for creating a class?\n",
    "Answer:-\n",
    "To create a class, use the keyword class className:\n",
    "Example:\n",
    "class testClass:\n",
    "  a = 10"
   ]
  },
  {
   "cell_type": "code",
   "execution_count": null,
   "id": "805a4df2",
   "metadata": {},
   "outputs": [],
   "source": [
    "Q8. How would you define the superclasses of a class?\n",
    "Answer:-\n",
    "The class from which a class inherits is called the parent or superclass. A class which inherits from a superclass \n",
    "is called a subclass, also called heir class or child class. Superclasses are sometimes called ancestors as well."
   ]
  }
 ],
 "metadata": {
  "kernelspec": {
   "display_name": "Python 3 (ipykernel)",
   "language": "python",
   "name": "python3"
  },
  "language_info": {
   "codemirror_mode": {
    "name": "ipython",
    "version": 3
   },
   "file_extension": ".py",
   "mimetype": "text/x-python",
   "name": "python",
   "nbconvert_exporter": "python",
   "pygments_lexer": "ipython3",
   "version": "3.9.13"
  }
 },
 "nbformat": 4,
 "nbformat_minor": 5
}
