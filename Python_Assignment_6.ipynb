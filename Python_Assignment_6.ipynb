{
 "cells": [
  {
   "cell_type": "markdown",
   "id": "cb980a31",
   "metadata": {},
   "source": [
    "Que 1. What are escape characters, and how do you use them?"
   ]
  },
  {
   "cell_type": "markdown",
   "id": "cb585461",
   "metadata": {},
   "source": [
    "Ans:Escape sequences allow you to include special characters in strings. To do this, simply add a backslash () before the character you want to escape."
   ]
  },
  {
   "cell_type": "markdown",
   "id": "7d37a775",
   "metadata": {},
   "source": [
    "For example,"
   ]
  },
  {
   "cell_type": "code",
   "execution_count": 1,
   "id": "64283ee8",
   "metadata": {},
   "outputs": [
    {
     "name": "stdout",
     "output_type": "stream",
     "text": [
      "Hey, whats up?\n"
     ]
    }
   ],
   "source": [
    "s = 'Hey, whats up?'\n",
    "print(s)"
   ]
  },
  {
   "cell_type": "markdown",
   "id": "d1145a15",
   "metadata": {},
   "source": [
    "But if you include an apostrophe without escaping it, then you will get an error:"
   ]
  },
  {
   "cell_type": "code",
   "execution_count": 2,
   "id": "82002a17",
   "metadata": {},
   "outputs": [
    {
     "ename": "SyntaxError",
     "evalue": "invalid syntax (4186274551.py, line 1)",
     "output_type": "error",
     "traceback": [
      "\u001b[1;36m  Input \u001b[1;32mIn [2]\u001b[1;36m\u001b[0m\n\u001b[1;33m    s = 'Hey, what's up?'\u001b[0m\n\u001b[1;37m                   ^\u001b[0m\n\u001b[1;31mSyntaxError\u001b[0m\u001b[1;31m:\u001b[0m invalid syntax\n"
     ]
    }
   ],
   "source": [
    "s = 'Hey, what's up?'\n",
    "print(s)"
   ]
  },
  {
   "cell_type": "markdown",
   "id": "06a37cf9",
   "metadata": {},
   "source": [
    "To fix this, just escape the apostrophe:"
   ]
  },
  {
   "cell_type": "code",
   "execution_count": 3,
   "id": "a7e09d6e",
   "metadata": {},
   "outputs": [
    {
     "name": "stdout",
     "output_type": "stream",
     "text": [
      "Hey, what's up?\n"
     ]
    }
   ],
   "source": [
    "s = 'Hey, what\\'s up?'\n",
    "print(s)"
   ]
  },
  {
   "cell_type": "markdown",
   "id": "c6fbce37",
   "metadata": {},
   "source": [
    "Que 2. What do the escape characters n and t stand for?"
   ]
  },
  {
   "cell_type": "markdown",
   "id": "1429dc01",
   "metadata": {},
   "source": [
    "Ans :\n",
    "use of \\n: To add newlines to string\n",
    "for example"
   ]
  },
  {
   "cell_type": "code",
   "execution_count": 5,
   "id": "7efc61d7",
   "metadata": {},
   "outputs": [
    {
     "name": "stdout",
     "output_type": "stream",
     "text": [
      "Multiline strings\n",
      "can be created\n",
      "using escape sequences.\n"
     ]
    }
   ],
   "source": [
    "print(\"Multiline strings\\ncan be created\\nusing escape sequences.\")"
   ]
  },
  {
   "cell_type": "markdown",
   "id": "3ea3f7f8",
   "metadata": {},
   "source": [
    "use of \\t: To add space in string"
   ]
  },
  {
   "cell_type": "code",
   "execution_count": 7,
   "id": "c9ad5afe",
   "metadata": {},
   "outputs": [
    {
     "name": "stdout",
     "output_type": "stream",
     "text": [
      "Multiline strings\tcan be created\tusing escape sequences.\n"
     ]
    }
   ],
   "source": [
    "print(\"Multiline strings\\tcan be created\\tusing escape sequences.\")"
   ]
  },
  {
   "cell_type": "markdown",
   "id": "585da33d",
   "metadata": {},
   "source": [
    "Que 3. What is the way to include backslash characters in a string?"
   ]
  },
  {
   "cell_type": "markdown",
   "id": "45249dea",
   "metadata": {},
   "source": [
    "Ans:\n",
    "In Python, the backslash(\\) is a special character. If we use the backslash in front of another character, it changes the meaning of that character."
   ]
  },
  {
   "cell_type": "markdown",
   "id": "fa37758f",
   "metadata": {},
   "source": [
    "Que 4. The string \"How|'s Moving Castle\" is a correct value.Why isn't the single quote character in the\n",
    "word  How|'s not escaped a problem?"
   ]
  },
  {
   "cell_type": "code",
   "execution_count": 8,
   "id": "e88734fc",
   "metadata": {},
   "outputs": [
    {
     "name": "stdout",
     "output_type": "stream",
     "text": [
      "How|'s Moving Castle\n"
     ]
    }
   ],
   "source": [
    "print(\"How|'s Moving Castle\")"
   ]
  },
  {
   "cell_type": "markdown",
   "id": "77f812fe",
   "metadata": {},
   "source": [
    "Que 5. How do you write a string of newlines if you don't want to use the n character?"
   ]
  },
  {
   "cell_type": "code",
   "execution_count": 9,
   "id": "033645e0",
   "metadata": {},
   "outputs": [
    {
     "name": "stdout",
     "output_type": "stream",
     "text": [
      "Hello World Welcome to Guru99 Tutorials\n"
     ]
    }
   ],
   "source": [
    "Ans: Using end= \"\" we can write a string of newlines \n",
    "print(\"Hello World \", end=\"\")\n",
    "print(\"Welcome to Guru99 Tutorials\")"
   ]
  },
  {
   "cell_type": "markdown",
   "id": "2d18b091",
   "metadata": {},
   "source": [
    "Que 6. What are the values of the given expressions?"
   ]
  },
  {
   "cell_type": "code",
   "execution_count": 11,
   "id": "47667445",
   "metadata": {},
   "outputs": [
    {
     "data": {
      "text/plain": [
       "'e'"
      ]
     },
     "execution_count": 11,
     "metadata": {},
     "output_type": "execute_result"
    }
   ],
   "source": [
    "'Hello, World!'[1]"
   ]
  },
  {
   "cell_type": "code",
   "execution_count": 12,
   "id": "385657c4",
   "metadata": {},
   "outputs": [
    {
     "data": {
      "text/plain": [
       "'Hello'"
      ]
     },
     "execution_count": 12,
     "metadata": {},
     "output_type": "execute_result"
    }
   ],
   "source": [
    "'Hello, World!'[0:5]"
   ]
  },
  {
   "cell_type": "code",
   "execution_count": 13,
   "id": "dfeb16a4",
   "metadata": {},
   "outputs": [
    {
     "data": {
      "text/plain": [
       "'Hello'"
      ]
     },
     "execution_count": 13,
     "metadata": {},
     "output_type": "execute_result"
    }
   ],
   "source": [
    "'Hello, World!'[:5]"
   ]
  },
  {
   "cell_type": "code",
   "execution_count": 14,
   "id": "dcbe3026",
   "metadata": {},
   "outputs": [
    {
     "data": {
      "text/plain": [
       "'lo, World!'"
      ]
     },
     "execution_count": 14,
     "metadata": {},
     "output_type": "execute_result"
    }
   ],
   "source": [
    "'Hello, World!'[3:]"
   ]
  },
  {
   "cell_type": "markdown",
   "id": "41afbbbd",
   "metadata": {},
   "source": [
    "Que 7. What are the values of the following expressions?"
   ]
  },
  {
   "cell_type": "code",
   "execution_count": 15,
   "id": "e7b08aae",
   "metadata": {},
   "outputs": [
    {
     "data": {
      "text/plain": [
       "'HELLO'"
      ]
     },
     "execution_count": 15,
     "metadata": {},
     "output_type": "execute_result"
    }
   ],
   "source": [
    "'Hello'.upper()"
   ]
  },
  {
   "cell_type": "code",
   "execution_count": 16,
   "id": "228bbce2",
   "metadata": {},
   "outputs": [
    {
     "data": {
      "text/plain": [
       "True"
      ]
     },
     "execution_count": 16,
     "metadata": {},
     "output_type": "execute_result"
    }
   ],
   "source": [
    "'Hello'.upper().isupper()"
   ]
  },
  {
   "cell_type": "code",
   "execution_count": 17,
   "id": "049f5324",
   "metadata": {},
   "outputs": [
    {
     "data": {
      "text/plain": [
       "'hello'"
      ]
     },
     "execution_count": 17,
     "metadata": {},
     "output_type": "execute_result"
    }
   ],
   "source": [
    "'Hello'.upper().lower()"
   ]
  },
  {
   "cell_type": "markdown",
   "id": "35bc3e51",
   "metadata": {},
   "source": [
    "Que 8. What are the values of the following expressions?"
   ]
  },
  {
   "cell_type": "code",
   "execution_count": 18,
   "id": "d3af191c",
   "metadata": {},
   "outputs": [
    {
     "data": {
      "text/plain": [
       "['Remember,', 'remember,', 'the', 'fifth', 'of', 'of', 'July.']"
      ]
     },
     "execution_count": 18,
     "metadata": {},
     "output_type": "execute_result"
    }
   ],
   "source": [
    "'Remember, remember, the fifth of of July.'.split()"
   ]
  },
  {
   "cell_type": "code",
   "execution_count": 20,
   "id": "b998e36e",
   "metadata": {},
   "outputs": [
    {
     "data": {
      "text/plain": [
       "'There-can-only-one.'"
      ]
     },
     "execution_count": 20,
     "metadata": {},
     "output_type": "execute_result"
    }
   ],
   "source": [
    "'-'.join('There can only one.'.split())"
   ]
  },
  {
   "cell_type": "markdown",
   "id": "eeb5c5a2",
   "metadata": {},
   "source": [
    "Que 9. What are the methods for right-justifying, left-justifying, and centering a string?"
   ]
  },
  {
   "cell_type": "code",
   "execution_count": 29,
   "id": "1a77ae0d",
   "metadata": {},
   "outputs": [
    {
     "name": "stdout",
     "output_type": "stream",
     "text": [
      "xxxxxxxram\n"
     ]
    }
   ],
   "source": [
    "txt = \"ram\"\n",
    "\n",
    "x = txt.rjust(10, \"x\")\n",
    "\n",
    "print(x)\n"
   ]
  },
  {
   "cell_type": "code",
   "execution_count": 30,
   "id": "feb83718",
   "metadata": {},
   "outputs": [
    {
     "name": "stdout",
     "output_type": "stream",
     "text": [
      "rampppppppppppp\n"
     ]
    }
   ],
   "source": [
    "txt = \"ram\"\n",
    "\n",
    "x = txt.ljust(15, \"p\")\n",
    "\n",
    "print(x)\n"
   ]
  },
  {
   "cell_type": "code",
   "execution_count": 31,
   "id": "3db79429",
   "metadata": {},
   "outputs": [
    {
     "name": "stdout",
     "output_type": "stream",
     "text": [
      "yramyy\n"
     ]
    }
   ],
   "source": [
    "txt = \"ram\"\n",
    "\n",
    "x = txt.center(6, \"y\")\n",
    "\n",
    "print(x)\n"
   ]
  },
  {
   "cell_type": "markdown",
   "id": "16704f70",
   "metadata": {},
   "source": [
    "Que 10. What is the best way to remove whitespace characters from the start or end?"
   ]
  },
  {
   "cell_type": "code",
   "execution_count": 36,
   "id": "35d79a67",
   "metadata": {},
   "outputs": [
    {
     "data": {
      "text/plain": [
       "'hello'"
      ]
     },
     "execution_count": 36,
     "metadata": {},
     "output_type": "execute_result"
    }
   ],
   "source": [
    "' hello '.strip() "
   ]
  },
  {
   "cell_type": "code",
   "execution_count": 35,
   "id": "079cfaf7",
   "metadata": {},
   "outputs": [
    {
     "name": "stdout",
     "output_type": "stream",
     "text": [
      "    Welcome to Guru99!   \n"
     ]
    }
   ],
   "source": [
    "str1 = \"    Welcome to Guru99!   \"\n",
    "after_strip = str1.strip(\"*\")\n",
    "print(after_strip)"
   ]
  }
 ],
 "metadata": {
  "kernelspec": {
   "display_name": "Python 3 (ipykernel)",
   "language": "python",
   "name": "python3"
  },
  "language_info": {
   "codemirror_mode": {
    "name": "ipython",
    "version": 3
   },
   "file_extension": ".py",
   "mimetype": "text/x-python",
   "name": "python",
   "nbconvert_exporter": "python",
   "pygments_lexer": "ipython3",
   "version": "3.9.13"
  }
 },
 "nbformat": 4,
 "nbformat_minor": 5
}
