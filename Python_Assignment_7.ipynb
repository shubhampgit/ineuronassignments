{
 "cells": [
  {
   "cell_type": "code",
   "execution_count": null,
   "id": "0a8b3601",
   "metadata": {},
   "outputs": [],
   "source": [
    "Que 1. What is the name of the feature responsible for generating Regex objects?\n",
    "Ans:The re.compile() function returns Regex object"
   ]
  },
  {
   "cell_type": "code",
   "execution_count": null,
   "id": "fc858e1f",
   "metadata": {},
   "outputs": [],
   "source": [
    "Que 2. Why do raw strings often appear in Regex objects?\n",
    "Ans: Raw strings are used so that backslashes do not have to be escaped"
   ]
  },
  {
   "cell_type": "code",
   "execution_count": null,
   "id": "1c9034ef",
   "metadata": {},
   "outputs": [],
   "source": [
    "Que 3. What is the return value of the search() method?\n",
    "Ans: The search() method returns Match objects"
   ]
  },
  {
   "cell_type": "code",
   "execution_count": null,
   "id": "b0b7a5b2",
   "metadata": {},
   "outputs": [],
   "source": [
    "Que 4. From a Match item, how do you get the actual strings that match the pattern?\n",
    "Ans: The group() method returns strings of the matched text."
   ]
  },
  {
   "cell_type": "code",
   "execution_count": null,
   "id": "c77e4fba",
   "metadata": {},
   "outputs": [],
   "source": [
    "Que 5. In the regex which created from the r'(\\d\\d\\d)-(\\d\\d\\d-\\d\\d\\d\\d)', what does group zero cover? Group 2? Group 1?\n",
    "Ans: Group 0 is the entire match, group 1 covers the first set of parentheses, and group 2 covers the second set of \n",
    "parentheses\n"
   ]
  },
  {
   "cell_type": "code",
   "execution_count": null,
   "id": "fa2a6e2e",
   "metadata": {},
   "outputs": [],
   "source": [
    "Que 6. In standard expression syntax, parentheses and intervals have distinct meanings. How can you tell a regex that \n",
    "you want it to fit real parentheses and periods?\n",
    "Ans: Periods and parentheses can be escaped with a backslash: \\., \\(, and \\)."
   ]
  },
  {
   "cell_type": "code",
   "execution_count": null,
   "id": "b33216f9",
   "metadata": {},
   "outputs": [],
   "source": [
    "Que 7. The findall() method returns a string list or a list of string tuples. What causes it to return one of the two \n",
    "options?\n",
    "Ans: If the regex has no groups, a list of strings is returned. If the regex has groups, a list of tuples of strings \n",
    "is returned."
   ]
  },
  {
   "cell_type": "code",
   "execution_count": null,
   "id": "fe83e0a4",
   "metadata": {},
   "outputs": [],
   "source": [
    "Que 8. In standard expressions, what does the | character mean?\n",
    "Ans: The | character signifies matching “either, or” between two groups."
   ]
  },
  {
   "cell_type": "code",
   "execution_count": null,
   "id": "371e0577",
   "metadata": {},
   "outputs": [],
   "source": [
    "Que 9. In regular expressions, what does the character stand for?\n",
    "Ans: which character ? not mentioned."
   ]
  },
  {
   "cell_type": "code",
   "execution_count": null,
   "id": "b1f2dddd",
   "metadata": {},
   "outputs": [],
   "source": [
    "Que 10.In regular expressions, what is the difference between the + and * characters?\n",
    "Ans: The + matches one or more. The * matches zero or more.    "
   ]
  },
  {
   "cell_type": "code",
   "execution_count": null,
   "id": "6e7eae04",
   "metadata": {},
   "outputs": [],
   "source": [
    "Que 11. What is the difference between {4} and {4,5} in regular expression?\n",
    "Ans:\n",
    "The {4} matches exactly three instances of the preceding group. \n",
    "The {4,5} matches between four and five instances."
   ]
  },
  {
   "cell_type": "code",
   "execution_count": null,
   "id": "ac4fcca9",
   "metadata": {},
   "outputs": [],
   "source": [
    "Que 12. What do you mean by the \\d, \\w, and \\s shorthand character classes signify in regular\n",
    "expressions?\n",
    "Ans:\n",
    "The \\d, \\w, and \\s shorthand character classes match a single digit, word, or space character, respectively."
   ]
  },
  {
   "cell_type": "code",
   "execution_count": null,
   "id": "04d169d8",
   "metadata": {},
   "outputs": [],
   "source": [
    "Que 13. What do means by \\D, \\W, and \\S shorthand character classes signify in regular expressions?\n",
    "Ans:\n",
    "The \\D, \\W, and \\S shorthand character classes match a single character that is not a digit, word, or space character\n",
    "respectively."
   ]
  },
  {
   "cell_type": "code",
   "execution_count": null,
   "id": "ccebd380",
   "metadata": {},
   "outputs": [],
   "source": [
    "Que 14. What is the difference between .*? and .*?\n",
    "Ans:\n",
    "The .* performs a greedy match, and the .*? performs a nongreedy match."
   ]
  },
  {
   "cell_type": "code",
   "execution_count": null,
   "id": "3432baaa",
   "metadata": {},
   "outputs": [],
   "source": [
    "Que 15. What is the syntax for matching both numbers and lowercase letters with a character class?\n",
    "Ans:\n",
    "Either [0-9a-z] or [a-z0-9]"
   ]
  },
  {
   "cell_type": "code",
   "execution_count": null,
   "id": "0f368b46",
   "metadata": {},
   "outputs": [],
   "source": [
    "Que 16. What is the procedure for making a normal expression in regax case insensitive?\n",
    "Ans:\n",
    "Passing re.I or re.IGNORECASE as the second argument to re.compile() will make the matching case insensitive."
   ]
  },
  {
   "cell_type": "code",
   "execution_count": null,
   "id": "23a1e3e9",
   "metadata": {},
   "outputs": [],
   "source": [
    "Que 17. What does the . character normally match? What does it match if re.DOTALL is passed as 2nd argument in \n",
    "re.compile()?\n",
    "Ans:\n",
    "The . character normally matches any character except the newline character. \n",
    "If re.DOTALL is passed as the second argument to re.compile(), then the dot will also match newline characters."
   ]
  },
  {
   "cell_type": "code",
   "execution_count": null,
   "id": "32a7d5ef",
   "metadata": {},
   "outputs": [],
   "source": [
    "Que 18. If numReg = re.compile(r'\\d+'), what will numRegex.sub('X', '11 drummers, 10 pipers, five rings, 4 hen') \n",
    "return?\n",
    "Ans:\n",
    "'X drummers, X pipers, five rings, X hens'"
   ]
  },
  {
   "cell_type": "code",
   "execution_count": null,
   "id": "5d9c64ad",
   "metadata": {},
   "outputs": [],
   "source": [
    "Que 19. What does passing re.VERBOSE as the 2nd argument to re.compile() allow to do?\n",
    "\n",
    "Ans: \n",
    "The re.VERBOSE argument allows you to add whitespace and comments to the string passed to re.compile()"
   ]
  },
  {
   "cell_type": "code",
   "execution_count": null,
   "id": "bf2f8b69",
   "metadata": {},
   "outputs": [],
   "source": [
    "Que 20. How would you write a regex that match a number with comma for every three digits? It must match the given \n",
    "following:\n",
    "\n",
    "'42'\n",
    "\n",
    "'1,234'\n",
    "\n",
    "'6,368,745'\n",
    "\n",
    "but not the following:\n",
    "\n",
    "'12,34,567' (which has only two digits between the commas)\n",
    "\n",
    "'1234' (which lacks commas)\n",
    "\n",
    "Ans: \n",
    "e.compile(r'^\\d{1,3}(,{3})*$') will create this regex, but other regex strings can produce a similar regular \n",
    "expression."
   ]
  },
  {
   "cell_type": "code",
   "execution_count": null,
   "id": "da9f50d2",
   "metadata": {},
   "outputs": [],
   "source": [
    "Que 21. How would you write a regex that matches the full name of someone whose last name is Watanabe? You can assume \n",
    "that the first name that comes before it will always be one word that begins with a capital letter. The regex must \n",
    "match the following:\n",
    "\n",
    "'Haruto Watanabe'\n",
    "\n",
    "'Alice Watanabe'\n",
    "\n",
    "'RoboCop Watanabe'\n",
    "\n",
    "but not the following:\n",
    "\n",
    "'haruto Watanabe' (where the first name is not capitalized)\n",
    "\n",
    "'Mr. Watanabe' (where the preceding word has a nonletter character)\n",
    "\n",
    "'Watanabe' (which has no first name)\n",
    "\n",
    "'Haruto watanabe' (where Watanabe is not capitalized)\n",
    "\n",
    "Ans: \n",
    "re.compile(r'[A-Z][a-z]*\\sWatanabe')"
   ]
  },
  {
   "cell_type": "code",
   "execution_count": null,
   "id": "3622af1a",
   "metadata": {},
   "outputs": [],
   "source": [
    "Que 22. How would you write a regex that matches a sentence where the first word is either Alice, Bob, or Carol; the \n",
    "second word is either eats, pets, or throws; the third word is apples, cats, or baseballs; and the sentence ends with \n",
    "a period? \n",
    "This regex should be case-insensitive. It must match the following:\n",
    "\n",
    "'Alice eats apples.'\n",
    "\n",
    "'Bob pets cats.'\n",
    "\n",
    "'Carol throws baseballs.'\n",
    "\n",
    "'Alice throws Apples.'\n",
    "\n",
    "'BOB EATS CATS.'\n",
    "\n",
    "but not the following:\n",
    "\n",
    "'RoboCop eats apples.'\n",
    "\n",
    "'ALICE THROWS FOOTBALLS.'\n",
    "\n",
    "'Carol eats 7 cats.'\n",
    "\n",
    "Ans: \n",
    "re.compile(r'(Alice|Bob|Carol)\\s(eats|pets|throws)\\ s(apples|cats|baseballs)\\.', re.IGNORECASE)"
   ]
  }
 ],
 "metadata": {
  "kernelspec": {
   "display_name": "Python 3 (ipykernel)",
   "language": "python",
   "name": "python3"
  },
  "language_info": {
   "codemirror_mode": {
    "name": "ipython",
    "version": 3
   },
   "file_extension": ".py",
   "mimetype": "text/x-python",
   "name": "python",
   "nbconvert_exporter": "python",
   "pygments_lexer": "ipython3",
   "version": "3.9.13"
  }
 },
 "nbformat": 4,
 "nbformat_minor": 5
}
